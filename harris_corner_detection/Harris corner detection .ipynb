{
 "cells": [
  {
   "cell_type": "code",
   "execution_count": 9,
   "metadata": {},
   "outputs": [],
   "source": [
    "import numpy as np \n",
    "import cv2\n",
    "import math\n",
    "import matplotlib.pyplot as plt\n",
    "from numpy import linalg "
   ]
  },
  {
   "cell_type": "code",
   "execution_count": 10,
   "metadata": {},
   "outputs": [],
   "source": [
    "# GAUSSIAN FILTER CREATED FROM SCRATCH WITH VARIABLE SIZE,k, AND VARIABLE STANDARD DEVIATION,sigma\n",
    "def gaussian_blur(image,k,sigma):\n",
    "    A = 0 \n",
    "    mid = int((k-1)/2)\n",
    "    matrix = np.zeros((k,k))\n",
    "    for i in range(k):\n",
    "        for j in range(k):\n",
    "            temp = math.exp(-((((i-k)**2) + ((j-k)**2))/(2*(sigma**2))))\n",
    "            A+=temp\n",
    "            matrix[i,j] = temp\n",
    "    matrix =matrix/A\n",
    "    a = cv2.filter2D(image,-1,matrix)\n",
    "    return a\n",
    "\n",
    "# sobel filter created from scratch. edge_type=0 implies horizontal sobel. edge_type=1 implies vertical sobel. \n",
    "def sobel_filter(image,edge_type):\n",
    "    if edge_type==0:\n",
    "        kernel = np.array([[-1,-2,-1],[0,0,0],[1,2,1]]) # covers dark to bright transition edges\n",
    "        kernel_1 = np.array([[1,2,1],[0,0,0],[-1,-2,-1]]) # covers bright to dark transition edges\n",
    "    if edge_type==1:\n",
    "        kernel = np.array([[-1,0,1],[-2,0,2],[-1,0,1]])\n",
    "        kernel_1 = np.array([[1,0,-1],[2,0,-2],[1,0,-1]])\n",
    "    edges = cv2.filter2D(image,-1,kernel)\n",
    "    edges_1 = cv2.filter2D(image,-1,kernel_1)\n",
    "    for i in range(edges.shape[0]):\n",
    "        for j in range(edges.shape[1]):\n",
    "            if np.argmax(np.array([abs(edges[i,j]),abs(edges_1[i,j])]))==1: # find the max between kernel and kernel_1\n",
    "                edges[i,j] = edges_1[i,j]\n",
    "    return (abs(edges)>=120)*np.ones(edges.shape)*edges*(1/8) #absolute thresholding to avoid noise\n"
   ]
  },
  {
   "cell_type": "code",
   "execution_count": 11,
   "metadata": {},
   "outputs": [],
   "source": [
    "#image can be either RGB or grayscale\n",
    "#k is the size of the gaussian filter applied\n",
    "#sigma is the corresponding standard-deviation of the gaussian filter\n",
    "def harris_corners(image_path,k,sigma):\n",
    "    image = cv2.imread(image_path)\n",
    "    if len(image.shape)==3:                           #if the image is coloured\n",
    "        image = cv2.cvtColor(image,cv2.COLOR_BGR2RGB) #conversion of BGR to RGB\n",
    "        image = cv2.cvtColor(image,cv2.COLOR_RGB2GRAY)#RGB to grayscale\n",
    "    i_g = gaussian_blur(image,k,sigma)                #gaussian blur applied to the images\n",
    "    i_x = sobel_filter(image,0)                       #horizontal sobel filter\n",
    "    i_y = sobel_filter(image,1)                       #horizontal sobel filter\n",
    "    i_xx = i_x*i_x                                    #calculating i_x**2\n",
    "    i_yy = i_y*i_y                                    #calculating i_y**2\n",
    "    i_xy = i_x*i_y                                    #calculating i_x*i_y\n",
    "    i_xx_ = gaussian_blur(i_xx,k,sigma)               #performing gaussian blur\n",
    "    i_yy_ = gaussian_blur(i_yy,k,sigma)\n",
    "    i_xy_ = gaussian_blur(i_xy,k,sigma)\n",
    "    corners = np.zeros(image.shape)                   #initialization of corners\n",
    "    for i in range(image.shape[0]):\n",
    "        for j in range(image.shape[1]):\n",
    "            M = np.array([[i_xx_[i,j],i_xy_[i,j]],[i_xy_[i,j],i_yy_[i,j]]]) #formation of the M matrix\n",
    "            w,_ = linalg.eig(M)                                             #finding the eigen values\n",
    "            R =  w[0]*w[1] - (0.06*((w[0]+w[1])**2))                        #finding R based on the eigenvalues\n",
    "            if R<=0:                                                        #putting edges to zero\n",
    "                corners[i,j] = 0\n",
    "            else:                                                         \n",
    "                corners[i,j] = R                                            #based on R value giving weight to the corner\n",
    "    return np.uint8(corners)                                                #normalising to 255\n",
    "            "
   ]
  },
  {
   "cell_type": "markdown",
   "metadata": {},
   "source": [
    "RUN THE CODE IN THE BELOW CELL"
   ]
  },
  {
   "cell_type": "code",
   "execution_count": 13,
   "metadata": {},
   "outputs": [
    {
     "data": {
      "image/png": "[encoded data removed]",
      "text/plain": [
       "<Figure size 432x288 with 1 Axes>"
      ]
     },
     "metadata": {
      "needs_background": "light"
     },
     "output_type": "display_data"
    },
    {
     "data": {
      "text/plain": [
       "True"
      ]
     },
     "execution_count": 13,
     "metadata": {},
     "output_type": "execute_result"
    }
   ],
   "source": [
    "img = harris_corners('/home/chennuri/chennuri_prateek/COURSES/3D_CV/assignment-1/harris_corner_detection/result1/input.png',3,3)\n",
    "plt.imshow(img,cmap='gray')\n",
    "plt.show()\n",
    "#img = gaussian_blur(img,3,1)\n",
    "cv2.imwrite('ABC.png',img)\n"
   ]
  },
  {
   "cell_type": "markdown",
   "metadata": {},
   "source": [
    "BUILT-IN\n"
   ]
  },
  {
   "cell_type": "code",
   "execution_count": 14,
   "metadata": {},
   "outputs": [
    {
     "data": {
      "image/png": "[encoded data removed]",
      "text/plain": [
       "<Figure size 432x288 with 1 Axes>"
      ]
     },
     "metadata": {
      "needs_background": "light"
     },
     "output_type": "display_data"
    },
    {
     "data": {
      "text/plain": [
       "True"
      ]
     },
     "execution_count": 14,
     "metadata": {},
     "output_type": "execute_result"
    }
   ],
   "source": [
    "image = cv2.imread('/home/chennuri/chennuri_prateek/COURSES/3D_CV/assignment-1/harris_corner_detection/result1/input.png')\n",
    "image = cv2.cvtColor(image,cv2.COLOR_BGR2RGB)\n",
    "gray = cv2.cvtColor(image,cv2.COLOR_RGB2GRAY)\n",
    "gray =cv2.cornerHarris(gray,2,5,0.06)\n",
    "\n",
    "gray = (((gray/gray.max())*255)>120)*np.ones(gray.shape)*255\n",
    "gray = np.uint8(gray)\n",
    "plt.imshow(gray,cmap='gray')\n",
    "plt.show()\n",
    "cv2.imwrite('result5.png',gray)"
   ]
  },
  {
   "cell_type": "code",
   "execution_count": null,
   "metadata": {},
   "outputs": [],
   "source": []
  }
 ],
 "metadata": {
  "kernelspec": {
   "display_name": "Python 3",
   "language": "python",
   "name": "python3"
  },
  "language_info": {
   "codemirror_mode": {
    "name": "ipython",
    "version": 3
   },
   "file_extension": ".py",
   "mimetype": "text/x-python",
   "name": "python",
   "nbconvert_exporter": "python",
   "pygments_lexer": "ipython3",
   "version": "3.6.8"
  }
 },
 "nbformat": 4,
 "nbformat_minor": 2
}
