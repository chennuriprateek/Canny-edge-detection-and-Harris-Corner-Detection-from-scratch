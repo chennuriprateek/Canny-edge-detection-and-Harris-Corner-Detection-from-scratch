{
 "cells": [
  {
   "cell_type": "code",
   "execution_count": 1,
   "metadata": {},
   "outputs": [],
   "source": [
    "import numpy as np \n",
    "import cv2\n",
    "import math\n",
    "import matplotlib.pyplot as plt"
   ]
  },
  {
   "cell_type": "code",
   "execution_count": 2,
   "metadata": {},
   "outputs": [],
   "source": [
    "# GAUSSIAN FILTER CREATED FROM SCRATCH WITH VARIABLE SIZE,k, AND VARIABLE STANDARD DEVIATION,sigma\n",
    "def gaussian_blur(image,k,sigma):\n",
    "    A = 0 \n",
    "    mid = int((k-1)/2)\n",
    "    matrix = np.zeros((k,k))\n",
    "    for i in range(k):\n",
    "        for j in range(k):\n",
    "            temp = math.exp(-((((i-k)**2) + ((j-k)**2))/(2*(sigma**2))))\n",
    "            A+=temp\n",
    "            matrix[i,j] = temp\n",
    "    matrix =matrix/A\n",
    "    a = cv2.filter2D(image,-1,matrix)\n",
    "    return a\n",
    "\n",
    "# sobel filter created from scratch. edge_type=0 implies horizontal sobel. edge_type=1 implies vertical sobel. \n",
    "def sobel_filter(image,edge_type):\n",
    "    if edge_type==0:\n",
    "        kernel = np.array([[-1,-2,-1],[0,0,0],[1,2,1]]) # covers dark to bright transition edges\n",
    "        kernel_1 = np.array([[1,2,1],[0,0,0],[-1,-2,-1]]) # covers bright to dark transition edges\n",
    "    if edge_type==1:\n",
    "        kernel = np.array([[-1,0,1],[-2,0,2],[-1,0,1]])\n",
    "        kernel_1 = np.array([[1,0,-1],[2,0,-2],[1,0,-1]])\n",
    "    edges = cv2.filter2D(image,-1,kernel)\n",
    "    edges_1 = cv2.filter2D(image,-1,kernel_1)\n",
    "    for i in range(edges.shape[0]):\n",
    "        for j in range(edges.shape[1]):\n",
    "            if np.argmax(np.array([abs(edges[i,j]),abs(edges_1[i,j])]))==1: #find the max between kernel and kernel_1\n",
    "                edges[i,j] = edges_1[i,j]\n",
    "    return (abs(edges)>=120)*np.ones(edges.shape)*edges*(1/8) #absolute thresholding to avoid noise\n",
    "\n",
    "# calculation of alpha using g_x and g_y\n",
    "def alpha_matrix(g_x,g_y):\n",
    "    angle_array = np.array([0,45,90,-45,-90])              #the round-off angles \n",
    "    alpha = np.arctan2(g_y,g_x)                            #calculation of alpha angles\n",
    "    alpha = alpha*(180.0/np.pi)          \n",
    "    for i in range(alpha.shape[0]):\n",
    "        for j in range(alpha.shape[1]):\n",
    "            if alpha[i,j]>90:                              #convert the alpha angles to the range of [-90,90]\n",
    "                diff = angle_array - (alpha[i,j]-180)      #find the difference with the round-off angles \n",
    "            elif alpha[i,j]<-90:\n",
    "                diff = angle_array - (alpha[i,j]+180)\n",
    "            else:\n",
    "                diff = angle_array - alpha[i,j]\n",
    "            alpha[i,j] = angle_array[np.argmin(abs(diff))] #find the round-off angle closest to the alpha angle\n",
    "    return alpha\n",
    "\n",
    "# non-max suppression\n",
    "def non_max_suppression(M,alpha):\n",
    "    dict_add = {0:[0,1],45:[-1,1],90:[-1,0],-45:[1,1],-90:[1,0]} #neighbours to check based on the alpha angle\n",
    "    g_n = np.zeros(M.shape)\n",
    "    for i in range(alpha.shape[0]):\n",
    "        for j in range(alpha.shape[1]):\n",
    "            [a,b] = dict_add[alpha[i,j]]\n",
    "            if i+1!=alpha.shape[0] and j+1!=alpha.shape[1]:\n",
    "                temp_array = np.array([M[i,j],M[i+a,j+b],M[i-a,j-b]]) #finding the maximum among the corresponding neighbours\n",
    "                if np.argmax(temp_array)==0:\n",
    "                    g_n[i,j] = M[i,j]   #assigning values to g_n based on the neighbouring values in M\n",
    "    return g_n\n",
    "\n",
    "# double thresholding\n",
    "def hysterisis_thresholding(g_n): \n",
    "    max_value = np.max(g_n) #finding the max value in g_n\n",
    "    t_h = 0.1*max_value     #higher threshold\n",
    "    t_l = 0.5*t_h           #lower threshold\n",
    "    g_nh = (g_n>t_h)*g_n    #thresholding based on the higher threshold\n",
    "    g_nl = (g_n>t_l)*g_n    #thresholding based on the lower threshold\n",
    "    g_nl_ = g_nl - g_nh     #storing values between lower and higher thresholds \n",
    "    return g_nl_,g_nh    \n",
    "\n",
    "# edge-linking\n",
    "def edge_linking(g_nl_,g_nh):\n",
    "    out = np.zeros(g_nh.shape)\n",
    "    neigh = np.array([[1,1],[0,1],[1,0],[-1,1],[1,-1],[0,-1],[-1,-1],[-1,0]]) #8-neighbours\n",
    "    for i in range(g_nl_.shape[0]):\n",
    "        for j in range(g_nl_.shape[1]):\n",
    "                temp_neigh = neigh + np.array([i,j])                  #calculating the neighbour locations\n",
    "                for p in range(temp_neigh.shape[0]):\n",
    "                    try:\n",
    "                        value = g_nh[temp_neigh[p,0],temp_neigh[p,1]] #checking if any of the 8_neighbours is non zero in g_nh\n",
    "                        if value!=0:\n",
    "                            out[i,j] = g_nl_[i,j]\n",
    "                            break\n",
    "                    except:\n",
    "                        continue \n",
    "    return out\n",
    "            "
   ]
  },
  {
   "cell_type": "code",
   "execution_count": 3,
   "metadata": {},
   "outputs": [],
   "source": [
    "#image can be either RGB or grayscale\n",
    "#k is the size of the gaussian filter applied\n",
    "#sigma is the corresponding standard-deviation of the gaussian filter\n",
    "def canny_edges(image_path,k,sigma):\n",
    "    image = cv2.imread(image_path)\n",
    "    if len(image.shape)==3:                           #if the image is coloured\n",
    "        image = cv2.cvtColor(image,cv2.COLOR_BGR2RGB) #conversion of BGR to RGB\n",
    "        image = cv2.cvtColor(image,cv2.COLOR_RGB2GRAY)#RGB to grayscale\n",
    "    i_g = gaussian_blur(image,k,sigma)                #applying gaussian filter\n",
    "    g_x = sobel_filter(image,0)                       #horizontal sobel filter\n",
    "    g_y = sobel_filter(image,1)                       #vertical sobel filter \n",
    "    M = np.sqrt((g_x**2) + (g_y**2))                  #calculation of M \n",
    "    M = (M/M.max())*255                               #normalizing M to 255\n",
    "    alpha = alpha_matrix(g_x,g_y)                     #calculation of alpha\n",
    "    g_n = non_max_suppression(M,alpha)                #non-max suppression \n",
    "    g_nl_,g_nh = hysterisis_thresholding(g_n)         #hysterisis thresholding\n",
    "    g_nl__ = edge_linking(g_nl_,g_nh)                 #edge-linking\n",
    "    edges = g_nl__ + g_nh                             #final answer\n",
    "    return (edges>20)*np.ones(edges.shape)*255        #thresholding\n",
    "    "
   ]
  },
  {
   "cell_type": "markdown",
   "metadata": {},
   "source": [
    "RUN THE CODE IN THE BELOW CELL"
   ]
  },
  {
   "cell_type": "code",
   "execution_count": 393,
   "metadata": {},
   "outputs": [
    {
     "data": {
      "image/png": "[encoded data removed]",
      "text/plain": [
       "<Figure size 432x288 with 1 Axes>"
      ]
     },
     "metadata": {
      "needs_background": "light"
     },
     "output_type": "display_data"
    },
    {
     "data": {
      "text/plain": [
       "True"
      ]
     },
     "execution_count": 393,
     "metadata": {},
     "output_type": "execute_result"
    }
   ],
   "source": [
    "edges = canny_edges('harris_corner_1.png',24,4)\n",
    "plt.imshow(edges,cmap='gray')\n",
    "plt.show()\n",
    "cv2.imwrite('abc.png',edges)"
   ]
  },
  {
   "cell_type": "markdown",
   "metadata": {},
   "source": [
    "BUILT-IN "
   ]
  },
  {
   "cell_type": "code",
   "execution_count": 5,
   "metadata": {},
   "outputs": [
    {
     "data": {
      "image/png": "[encoded data removed]",
      "text/plain": [
       "<Figure size 432x288 with 1 Axes>"
      ]
     },
     "metadata": {
      "needs_background": "light"
     },
     "output_type": "display_data"
    },
    {
     "data": {
      "text/plain": [
       "True"
      ]
     },
     "execution_count": 5,
     "metadata": {},
     "output_type": "execute_result"
    }
   ],
   "source": [
    "image = cv2.imread('/home/chennuri/chennuri_prateek/COURSES/3D_CV/assignment-1/canny_edge_detection/result_1/input.png')\n",
    "image = cv2.cvtColor(image,cv2.COLOR_BGR2RGB)\n",
    "image = cv2.cvtColor(image,cv2.COLOR_RGB2GRAY)\n",
    "edges = cv2.Canny(image,20,70)\n",
    "plt.imshow(np.uint8(edges),cmap='gray')\n",
    "plt.show()\n",
    "cv2.imwrite('result1.png',edges)"
   ]
  }
 ],
 "metadata": {
  "kernelspec": {
   "display_name": "Python 3",
   "language": "python",
   "name": "python3"
  },
  "language_info": {
   "codemirror_mode": {
    "name": "ipython",
    "version": 3
   },
   "file_extension": ".py",
   "mimetype": "text/x-python",
   "name": "python",
   "nbconvert_exporter": "python",
   "pygments_lexer": "ipython3",
   "version": "3.6.8"
  }
 },
 "nbformat": 4,
 "nbformat_minor": 2
}
